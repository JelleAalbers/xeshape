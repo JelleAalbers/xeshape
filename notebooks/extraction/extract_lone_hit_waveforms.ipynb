{
 "cells": [
  {
   "cell_type": "code",
   "execution_count": 1,
   "metadata": {
    "collapsed": false
   },
   "outputs": [
    {
     "name": "stderr",
     "output_type": "stream",
     "text": [
      "/home/xedaq/anaconda3/envs/pax_jelle/lib/python3.4/site-packages/IPython/kernel/__init__.py:13: ShimWarning: The `IPython.kernel` package has been deprecated. You should import from ipykernel or jupyter_client instead.\n",
      "  \"You should import from ipykernel or jupyter_client instead.\", ShimWarning)\n"
     ]
    }
   ],
   "source": [
    "import numpy as np\n",
    "import matplotlib\n",
    "import matplotlib.pyplot as plt\n",
    "%matplotlib inline\n",
    "\n",
    "from tqdm import tqdm\n",
    "from multihist import Histdd, Hist1d\n",
    "import hax"
   ]
  },
  {
   "cell_type": "code",
   "execution_count": 2,
   "metadata": {
    "collapsed": false
   },
   "outputs": [
    {
     "name": "stderr",
     "output_type": "stream",
     "text": [
      "WARNING:hax.__init__] You're not at a XENON analysis facility, or hax can't detect at which analysis facility you are.\n"
     ]
    }
   ],
   "source": [
    "hax.init(pax_version_policy='loose',\n",
    "         raw_data_local_path='/data/xenon/raw')"
   ]
  },
  {
   "cell_type": "code",
   "execution_count": 5,
   "metadata": {
    "collapsed": true
   },
   "outputs": [],
   "source": [
    "# Get number of PMTs\n",
    "from pax import configuration\n",
    "pax_config = configuration.load_configuration('XENON1T')\n",
    "n_channels = pax_config['DEFAULT']['n_channels']"
   ]
  },
  {
   "cell_type": "code",
   "execution_count": 3,
   "metadata": {
    "collapsed": false
   },
   "outputs": [
    {
     "data": {
      "text/plain": [
       "13781"
      ]
     },
     "execution_count": 3,
     "metadata": {},
     "output_type": "execute_result"
    }
   ],
   "source": [
    "# Get a recent background run\n",
    "dsets = hax.runs.datasets\n",
    "dsets = dsets[dsets['source__type'] == 'none']\n",
    "dsets.iloc[-3].number"
   ]
  },
  {
   "cell_type": "code",
   "execution_count": 4,
   "metadata": {
    "collapsed": true
   },
   "outputs": [],
   "source": [
    "run_id = 13781"
   ]
  },
  {
   "cell_type": "code",
   "execution_count": 82,
   "metadata": {
    "collapsed": false
   },
   "outputs": [
    {
     "data": {
      "text/plain": [
       "12.55203282828283"
      ]
     },
     "execution_count": 82,
     "metadata": {},
     "output_type": "execute_result"
    }
   ],
   "source": [
    "# Hours needed per hour of data (1 CPU)\n",
    "(18757 * 318/132)/3600"
   ]
  },
  {
   "cell_type": "code",
   "execution_count": 90,
   "metadata": {
    "collapsed": false
   },
   "outputs": [
    {
     "data": {
      "text/plain": [
       "(2977301.587301587, 726.4615873015872)"
      ]
     },
     "execution_count": 90,
     "metadata": {},
     "output_type": "execute_result"
    }
   ],
   "source": [
    "# Expected total waveforms extracted\n",
    "n_wv_expected = 20000 * 18757/126\n",
    "\n",
    "# MB RAM required\n",
    "n_wv_expected, n_wv_expected * 4 * 61 / 1e6"
   ]
  },
  {
   "cell_type": "code",
   "execution_count": 10,
   "metadata": {
    "collapsed": false
   },
   "outputs": [],
   "source": [
    "# Turn off debug messages (avoid giant dump when processing)\n",
    "import logging\n",
    "logging.basicConfig(level=logging.INFO)\n",
    "logging.getLogger().setLevel(logging.INFO)"
   ]
  },
  {
   "cell_type": "markdown",
   "metadata": {},
   "source": [
    "# Do extraction"
   ]
  },
  {
   "cell_type": "code",
   "execution_count": null,
   "metadata": {
    "collapsed": false
   },
   "outputs": [
    {
     "name": "stderr",
     "output_type": "stream",
     "text": [
      "\n",
      "0it [00:00, ?it/s]\u001b[AINFO:processor] This is PAX version 6.8.1, running with configuration for XENON1T.\n",
      "\n",
      "Exception in thread Thread-79:\n",
      "Traceback (most recent call last):\n",
      "  File \"/home/xedaq/anaconda3/envs/pax_jelle/lib/python3.4/threading.py\", line 911, in _bootstrap_inner\n",
      "    self.run()\n",
      "  File \"/home/xedaq/anaconda3/envs/pax_jelle/lib/python3.4/site-packages/tqdm/_tqdm.py\", line 102, in run\n",
      "    for instance in self.tqdm_cls._instances:\n",
      "  File \"/home/xedaq/anaconda3/envs/pax_jelle/lib/python3.4/_weakrefset.py\", line 60, in __iter__\n",
      "    for itemref in self.data:\n",
      "RuntimeError: Set changed size during iteration\n",
      "\n",
      "INFO:ReadZipped] InputFromFolder: Selecting file /data/xenon/raw/171018_0917/XENON1T-13781-000000000-000000099-000000100.zip (number 1/187 in folder) for reading\n",
      "1it [00:12, 12.70s/it]"
     ]
    }
   ],
   "source": [
    "from pax.plugins.peak_processing.BasicProperties import put_w_in_center_of_field\n",
    "from pax.dsputils import adc_to_pe\n",
    "\n",
    "import collections\n",
    "def unique_only(x):\n",
    "    counts = collections.Counter(x)\n",
    "    return np.array([q for q in x if counts[q] == 1])\n",
    "\n",
    "\n",
    "save_before_and_after = 30\n",
    "\n",
    "n_max_wvs = int(1e6)\n",
    "n_samples = 2 * save_before_and_after + 1\n",
    "waveforms = np.zeros((n_samples, n_max_wvs), dtype=np.int)\n",
    "channels = []\n",
    "wv_i = 0\n",
    "\n",
    "for event in tqdm(hax.raw_data.process_events(\n",
    "        run_id=run_id, \n",
    "        config_override=dict(#HitFinder=dict(height_over_noise_high_threshold=8),\n",
    "                             pax=dict(compute_properties=[],\n",
    "                                      pre_analysis=[],\n",
    "                                      pre_output=[], \n",
    "                                      output=[],\n",
    "                                      encoder_plugin=None)))):\n",
    "\n",
    "    # Find pulses which can participate \n",
    "    pulse_indices = []\n",
    "    for peak in event.peaks:\n",
    "        if not peak.detector == 'tpc':\n",
    "            continue\n",
    "            \n",
    "        # Have one and only one hit in a single electron\n",
    "#        if not (12 <= peak.area < 45 \n",
    "#                and 80 <= peak.range_area_decile[5] < 500 ):\n",
    "#            continue\n",
    "            \n",
    "        if not peak.type == 'lone_hit':\n",
    "            continue\n",
    "        \n",
    "        pulse_indices.append(peak.hits['found_in_pulse'])\n",
    "        \n",
    "    if not len(pulse_indices):\n",
    "        continue\n",
    "    pulse_indices = unique_only(np.concatenate(pulse_indices))\n",
    "\n",
    "    # Save samples before and after the maximum\n",
    "    for pulse_i in pulse_indices:\n",
    "        p = event.pulses[pulse_i]\n",
    "        w = p.raw_data\n",
    "        w = np.mean(w[:40]) - w\n",
    "        #w *= adc_to_pe(pax_config['DEFAULT'], ch)\n",
    "        \n",
    "        put_w_in_center_of_field(w, waveforms[:, wv_i], np.argmax(w))\n",
    "        channels.append(p.channel)\n",
    "        wv_i += 1\n",
    "        \n",
    "        if wv_i >= n_max_wvs:\n",
    "            break\n",
    "\n",
    "    # For breaking outer loop.. \n",
    "    if wv_i >= n_max_wvs:\n",
    "        break\n",
    "\n",
    "channels = np.array(channels)\n",
    "waveforms = waveforms[:, :wv_i]"
   ]
  },
  {
   "cell_type": "code",
   "execution_count": 97,
   "metadata": {
    "collapsed": false
   },
   "outputs": [
    {
     "data": {
      "text/plain": [
       "1000000"
      ]
     },
     "execution_count": 97,
     "metadata": {},
     "output_type": "execute_result"
    }
   ],
   "source": [
    "wv_i"
   ]
  },
  {
   "cell_type": "code",
   "execution_count": null,
   "metadata": {
    "collapsed": false
   },
   "outputs": [],
   "source": [
    "np.savez_compressed('spes_run%d_%d.npz' % (run_id, wv_i),\n",
    "                    channels=channels,\n",
    "                    waveforms=waveforms)"
   ]
  },
  {
   "cell_type": "code",
   "execution_count": 124,
   "metadata": {
    "collapsed": true
   },
   "outputs": [],
   "source": [
    "from scipy import stats"
   ]
  },
  {
   "cell_type": "code",
   "execution_count": 125,
   "metadata": {
    "collapsed": false
   },
   "outputs": [],
   "source": [
    "mean = waveforms.mean(axis=1)\n",
    "sigma = (np.percentile(waveforms, stats.norm.cdf(1) * 100, axis=1) - \n",
    "          np.percentile(waveforms, stats.norm.cdf(-1) * 100, axis=1))/2\n",
    "errors = sigma/np.sqrt(wv_i)"
   ]
  },
  {
   "cell_type": "code",
   "execution_count": 151,
   "metadata": {
    "collapsed": false
   },
   "outputs": [
    {
     "data": {
      "image/png": "[encoded data removed]",
      "text/plain": [
       "<matplotlib.figure.Figure at 0x7f9b195937f0>"
      ]
     },
     "metadata": {},
     "output_type": "display_data"
    }
   ],
   "source": [
    "plt.plot(errors/mean)\n",
    "plt.yscale('log')"
   ]
  },
  {
   "cell_type": "code",
   "execution_count": 146,
   "metadata": {
    "collapsed": false
   },
   "outputs": [
    {
     "data": {
      "image/png": "[encoded data removed]",
      "text/plain": [
       "<matplotlib.figure.Figure at 0x7f9b19e27710>"
      ]
     },
     "metadata": {},
     "output_type": "display_data"
    }
   ],
   "source": [
    "x = np.arange(len(mean))\n",
    "#plt.plot(x, mean + errors)\n",
    "#plt.plot(x, mean - errors)\n",
    "#plt.plot(x, mean)\n",
    "plt.plot(x, mean, alpha=0.5)\n",
    "plt.errorbar(x,\n",
    "             mean, \n",
    "             yerr=errors * 20,\n",
    "             linestyle='', c='k',\n",
    "             \n",
    "             #elinewidth=10,\n",
    "             #linestyle='steps-mid'\n",
    "            )\n",
    "plt.xlim(20, 50)\n",
    "plt.ylim(0, 5)\n",
    "#plt.ylim(-5, 5)\n",
    "plt.grid(alpha=0.4)"
   ]
  },
  {
   "cell_type": "code",
   "execution_count": null,
   "metadata": {
    "collapsed": true
   },
   "outputs": [],
   "source": []
  }
 ],
 "metadata": {
  "kernelspec": {
   "display_name": "Python 3",
   "language": "python",
   "name": "python3"
  },
  "language_info": {
   "codemirror_mode": {
    "name": "ipython",
    "version": 3
   },
   "file_extension": ".py",
   "mimetype": "text/x-python",
   "name": "python",
   "nbconvert_exporter": "python",
   "pygments_lexer": "ipython3",
   "version": "3.4.5"
  }
 },
 "nbformat": 4,
 "nbformat_minor": 0
}
