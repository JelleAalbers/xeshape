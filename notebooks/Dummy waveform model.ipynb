{
 "cells": [
  {
   "cell_type": "code",
   "execution_count": 4,
   "metadata": {
    "collapsed": true
   },
   "outputs": [],
   "source": [
    "import numpy as np\n",
    "import xeshape\n",
    "import blueice as bi\n",
    "from scipy import stats\n",
    "\n",
    "import matplotlib\n",
    "import matplotlib.pyplot as plt\n",
    "%matplotlib inline"
   ]
  },
  {
   "cell_type": "code",
   "execution_count": 1,
   "metadata": {
    "collapsed": false
   },
   "outputs": [],
   "source": [
    "class DummyWaveformSource(xeshape.bi.WaveformSource):\n",
    "    \"\"\"Simple waveform source that makes Gaussian hits with a delta function PMT response\n",
    "    \"\"\"\n",
    "\n",
    "    def simulate_wv_matrix(self, n_events):\n",
    "        c = self.config\n",
    "        hit_times = c['mean'] + c['sigma'] * np.random.randn(n_events * c['max_size'])\n",
    "        hit_times -= self.ts[0]\n",
    "        hit_indices = (hit_times // self.dt).astype(np.int)\n",
    "        wv_matrix = xeshape.utils.split_groups(hit_indices, n_x=len(self.ts),\n",
    "                                       distr=stats.randint(c['min_size'], c['max_size']))\n",
    "        return wv_matrix\n",
    "\n",
    "ts = np.arange(-100, 101, 10)\n",
    "\n",
    "config = dict(\n",
    "    sources=[dict(name='Freddie')],\n",
    "    analysis_space=(('t', ts),),\n",
    "    default_source_class=DummyWaveformSource,\n",
    "    mean=0,  # Not very useful, since we'll be aligning!\n",
    "    sigma=10,\n",
    "    min_size=10,\n",
    "    max_size=20,\n",
    "    n_events_for_model=int(1e3),\n",
    "    \n",
    "    #delay_pdf_computation=True,\n",
    "    # Temp for debugging\n",
    "    # force_recalculation=True,\n",
    ")\n",
    "\n",
    "m = bi.Model(config, sigma=12, delay_pdf_computation=False)\n",
    "plt.plot(ts, m.sources[0].waveform_model, linestyle='steps-mid')"
   ]
  },
  {
   "cell_type": "code",
   "execution_count": 6,
   "metadata": {
    "collapsed": false
   },
   "outputs": [
    {
     "name": "stderr",
     "output_type": "stream",
     "text": [
      "Preparing model computation tasks: 100%|██████████| 5/5 [00:00<00:00, 1552.53it/s]\n",
      "Computing on one core: 100%|██████████| 5/5 [00:00<00:00, 13697.92it/s]\n",
      "Loading computed models: 100%|██████████| 5/5 [00:00<00:00, 1755.23it/s]\n"
     ]
    }
   ],
   "source": [
    "ll = xeshape.bi.WaveformLikelihood(config)\n",
    "sigma_anchors = np.arange(5, 26, 5)\n",
    "ll.add_shape_parameter('sigma', sigma_anchors)\n",
    "ll.prepare()\n",
    "ll.set_data(m.sources[0].simulate_wv_matrix(int(1e4)))"
   ]
  },
  {
   "cell_type": "code",
   "execution_count": 8,
   "metadata": {
    "collapsed": false
   },
   "outputs": [
    {
     "data": {
      "text/plain": [
       "<matplotlib.legend.Legend at 0x7f113af91048>"
      ]
     },
     "execution_count": 8,
     "metadata": {},
     "output_type": "execute_result"
    },
    {
     "data": {
      "image/png": "[encoded data removed]",
      "text/plain": [
       "<matplotlib.figure.Figure at 0x7f113af91128>"
      ]
     },
     "metadata": {},
     "output_type": "display_data"
    }
   ],
   "source": [
    "for q in sigma_anchors:\n",
    "    plt.plot(ts, ll.anchor_models[(q,)].sources[0].waveform_model, label=q, linestyle='steps-mid')\n",
    "plt.plot(ts, ll.data_waveform, c='k', linestyle='steps-mid', label='Data')\n",
    "    #plt.errorbar(ts, ll.data_waveform, \n",
    "#             yerr=ll.errors * 10,\n",
    "#             c='k', label='Data')\n",
    "plt.legend()"
   ]
  },
  {
   "cell_type": "code",
   "execution_count": 12,
   "metadata": {
    "collapsed": false
   },
   "outputs": [
    {
     "data": {
      "text/plain": [
       "<matplotlib.text.Text at 0x7f113adf4390>"
      ]
     },
     "execution_count": 12,
     "metadata": {},
     "output_type": "execute_result"
    },
    {
     "data": {
      "image/png": "[encoded data removed]",
      "text/plain": [
       "<matplotlib.figure.Figure at 0x7f113ad8c908>"
      ]
     },
     "metadata": {},
     "output_type": "display_data"
    }
   ],
   "source": [
    "q = np.linspace(5, 26, 100)\n",
    "plt.plot(q, [-ll(sigma=x) for x in q])\n",
    "plt.xlabel(\"Sigma\")\n",
    "plt.ylabel(\"KS distance\")"
   ]
  },
  {
   "cell_type": "code",
   "execution_count": 10,
   "metadata": {
    "collapsed": false
   },
   "outputs": [
    {
     "data": {
      "text/plain": [
       "(OrderedDict([('sigma', 12.36627197265625)]), -0.010809994635226916)"
      ]
     },
     "execution_count": 10,
     "metadata": {},
     "output_type": "execute_result"
    }
   ],
   "source": [
    "ll.bestfit_scipy()"
   ]
  },
  {
   "cell_type": "markdown",
   "metadata": {},
   "source": [
    "If you choose denser anchor points, fit will improve."
   ]
  }
 ],
 "metadata": {
  "kernelspec": {
   "display_name": "Python 3",
   "language": "python",
   "name": "python3"
  },
  "language_info": {
   "codemirror_mode": {
    "name": "ipython",
    "version": 3
   },
   "file_extension": ".py",
   "mimetype": "text/x-python",
   "name": "python",
   "nbconvert_exporter": "python",
   "pygments_lexer": "ipython3",
   "version": "3.4.5"
  }
 },
 "nbformat": 4,
 "nbformat_minor": 0
}
