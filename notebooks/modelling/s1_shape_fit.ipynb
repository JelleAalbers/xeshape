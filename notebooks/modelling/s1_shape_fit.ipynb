{
 "cells": [
  {
   "cell_type": "code",
   "execution_count": 10,
   "metadata": {
    "collapsed": true
   },
   "outputs": [],
   "source": [
    "# Imports, setup"
   ]
  },
  {
   "cell_type": "code",
   "execution_count": 11,
   "metadata": {
    "collapsed": false
   },
   "outputs": [
    {
     "name": "stderr",
     "output_type": "stream",
     "text": [
      "/home/jelle/anaconda3/envs/pax/lib/python3.4/site-packages/matplotlib/style/core.py:53: UserWarning: Style includes a parameter, 'backend', that is not related to style.  Ignoring\n",
      "  \"to style.  Ignoring\".format(key))\n"
     ]
    }
   ],
   "source": [
    "import numpy as np\n",
    "from scipy import stats, interpolate, optimize\n",
    "import pandas as pd\n",
    "import matplotlib\n",
    "import matplotlib.pyplot as plt\n",
    "plt.style.use('latex_thesis')\n",
    "%matplotlib inline\n",
    "\n",
    "# Restore matplotlib 1.x color cycler\n",
    "from cycler import cycler\n",
    "matplotlib.rcParams['axes.prop_cycle'] = cycler(color='bgrcmyk')\n",
    "\n",
    "from multihist import Histdd, Hist1d\n",
    "import xeshape as xs\n",
    "import blueice as bi\n",
    "\n",
    "# Only need it for cuts and misc stuff, no need to init\n",
    "from hax import cuts\n",
    "from hax.misc import draw_box"
   ]
  },
  {
   "cell_type": "code",
   "execution_count": 12,
   "metadata": {
    "collapsed": true
   },
   "outputs": [],
   "source": [
    "# Time coordinates of waveform matrix\n",
    "dt = 10\n",
    "ts = np.arange(-125, 125 +1) * 10\n",
    "\n",
    "# Test for SPE offsets\n",
    "# def bla_pulse(t):\n",
    "#     return stats.uniform(0, 10).cdf(t)\n",
    "# pwvs = xs.simulate_peak_waveforms(np.zeros(1e4), ts, bla_pulse, stats.norm(100, 10), n_offsets=4)\n",
    "# plt.plot(ts, pwvs[:, 0], linestyle='steps-mid')\n",
    "# plt.xlim(-100, 100)"
   ]
  },
  {
   "cell_type": "code",
   "execution_count": 13,
   "metadata": {
    "collapsed": true
   },
   "outputs": [],
   "source": [
    "# Waveform plot with inset that zooms to low-amplitude region\n",
    "def inset_plot(plot_orders, \n",
    "               xlabel='Time (ns) since 10\\% area sample', \n",
    "               ylabel='Mean amplitude (fraction of total)',\n",
    "               inset_zoom=0.06,\n",
    "               inset_log=True,\n",
    "               inset_lims=None\n",
    "              ):\n",
    "    plot_orders()\n",
    "    plt.grid(alpha=0.2)\n",
    "    plt.xlabel(xlabel)\n",
    "    plt.ylabel(ylabel)\n",
    "    leg = plt.legend(bbox_to_anchor=(0., .1, 1, .1))\n",
    "    if leg is not None:\n",
    "        leg.get_frame().set_linewidth(0.0)\n",
    "        leg.get_frame().set_alpha(0.85)\n",
    "\n",
    "    plt.xlim(*t_range)\n",
    "\n",
    "    ax = plt.axes([.5, .55, .4, .35])\n",
    "    plt.sca(ax)\n",
    "    plot_orders()\n",
    "    if inset_log:\n",
    "        plt.yscale('log')\n",
    "    if inset_lims:\n",
    "        plt.ylim(*inset_lims)\n",
    "    else:\n",
    "        plt.ylim(*(np.array(plt.ylim()) * inset_zoom))\n",
    "    plt.grid(alpha=0.2)\n",
    "    plt.xlim(*t_range)\n",
    "    #plt.text(150, 0.025, 'Zoom-in')\n",
    "    plt.tight_layout()\n",
    "    \n",
    "# Lines with labels on the plot\n",
    "def labeled_vline(x, text, ytext,\n",
    "                  textoffset=0, text_kwargs=None, verticalalignment='center',\n",
    "                  color='k', alpha=1, text_alpha=None,\n",
    "                  **kwargs):\n",
    "    if text_kwargs is None:\n",
    "        text_kwargs = dict()\n",
    "    if text_alpha is None:\n",
    "        text_alpha = alpha\n",
    "    plt.axvline(x, color=color, alpha=alpha, **kwargs)\n",
    "    plt.text(x + textoffset, ytext, text, color=color, alpha=text_alpha, rotation='vertical', \n",
    "             verticalalignment=verticalalignment,\n",
    "             **text_kwargs)\n",
    "    \n",
    "def labeled_hline(y, text, xtext,\n",
    "                  textoffset=0, text_kwargs=None, horizontalalignment='center', text_alpha=None,\n",
    "                  color='k', alpha=1,\n",
    "                  **kwargs):\n",
    "    if text_kwargs is None:\n",
    "        text_kwargs = dict()\n",
    "    if text_alpha is None:\n",
    "        text_alpha = alpha\n",
    "    plt.axhline(y, color=color, alpha=alpha, **kwargs)\n",
    "    plt.text(xtext, y + textoffset, text, color=color, alpha=text_alpha,\n",
    "             horizontalalignment=horizontalalignment,\n",
    "             **text_kwargs)\n",
    "    \n",
    "def finish(filename=None, tight=True):\n",
    "    if tight:\n",
    "        plt.tight_layout()\n",
    "    if filename:\n",
    "        plt.savefig(filename + '.pdf')\n",
    "        plt.savefig(filename + '.png', dpi=300)\n",
    "    plt.show()"
   ]
  },
  {
   "cell_type": "markdown",
   "metadata": {},
   "source": [
    "# Load and clean data"
   ]
  },
  {
   "cell_type": "markdown",
   "metadata": {},
   "source": [
    "### Read data from file"
   ]
  },
  {
   "cell_type": "code",
   "execution_count": 14,
   "metadata": {
    "collapsed": false
   },
   "outputs": [],
   "source": [
    "import os\n",
    "\n",
    "def load_data(filename):\n",
    "    if not os.path.exists(filename + '.hdf5'):\n",
    "        raise FileNotFoundError(\"Need the S1 metadata dataframe from file %s.hdf5\" % filename)\n",
    "    if not os.path.exists(filename + '.npz'):\n",
    "        raise FileNotFoundError(\"Need the S1 waveforms from file %s.npz\" % filename)\n",
    "\n",
    "    data = pd.read_hdf(filename + '.hdf5')\n",
    "    waveforms = np.load(filename + '.npz')['waveforms'].T\n",
    "    \n",
    "    return {'data': data, 'waveforms': waveforms}\n",
    "\n",
    "def cut(d, mask):\n",
    "    d['data'] = d['data'][mask]\n",
    "    d['waveforms'] = d['waveforms'][:, mask]\n",
    "\n",
    "sr1 = load_data('sr1_kr_s1s')\n",
    "sr0 = load_data('sr0_kr_s1s')\n",
    "dsets = {'sr1': sr1, 'sr0':sr0}"
   ]
  },
  {
   "cell_type": "markdown",
   "metadata": {},
   "source": [
    "### Keep only main and second S1"
   ]
  },
  {
   "cell_type": "code",
   "execution_count": 15,
   "metadata": {
    "collapsed": false
   },
   "outputs": [],
   "source": [
    "def select_primary(data):\n",
    "    return data['s1_a_center_time'] == data['center_time']\n",
    "\n",
    "for d in dsets.values():\n",
    "    # Keep only main and secon S1\n",
    "    mask = ((d['data']['s1_a_center_time'] == d['data']['center_time']) | \n",
    "            (d['data']['s1_b_center_time'] == d['data']['center_time'])).values\n",
    "    cut(d, mask)\n",
    "    \n",
    "    # Check Secondary is always after primary\n",
    "    assert np.all((d['data']['s1_a_center_time'] < d['data']['s1_b_center_time']).values)\n",
    "    \n",
    "    # Add corrected areas\n",
    "    d['data']['cs1_a'] = d['data']['s1_a'] * d['data']['int_a_s1_area_correction']\n",
    "    d['data']['cs1_b'] = d['data']['s1_b'] * d['data']['int_b_s1_area_correction']\n",
    "\n",
    "# data = hax.cuts.selection(data, mask, desc='Keep main and second S1')\n",
    "# waveforms = waveforms[:, mask]"
   ]
  },
  {
   "cell_type": "code",
   "execution_count": 16,
   "metadata": {
    "collapsed": true
   },
   "outputs": [],
   "source": [
    "# ### Compute corrected S1 area\n",
    "# prim_mask = select_primary(data).values\n",
    "# c_area = np.copy(data['cs1_b'].values)   # Don't forget copy here! Nasty business otherwise!\n",
    "# c_area[prim_mask] = data['cs1_a'][prim_mask]\n",
    "# data['c_area'] = c_area\n",
    "# assert np.all(data[prim_mask]['cs1_a'] == data[prim_mask]['c_area'])\n",
    "# assert np.all(data[True ^ prim_mask]['cs1_b'] == data[True ^ prim_mask]['c_area'])"
   ]
  },
  {
   "cell_type": "markdown",
   "metadata": {},
   "source": [
    "### Select events with good S1 areas"
   ]
  },
  {
   "cell_type": "code",
   "execution_count": 17,
   "metadata": {
    "collapsed": true
   },
   "outputs": [],
   "source": [
    "primary_area_cut = np.array((180, 320))\n",
    "secondary_area_cut = np.array((40, 160))"
   ]
  },
  {
   "cell_type": "code",
   "execution_count": 18,
   "metadata": {
    "collapsed": false
   },
   "outputs": [
    {
     "data": {
      "image/png": "[encoded data removed]",
      "text/plain": [
       "<matplotlib.figure.Figure at 0x7fd2be1c4780>"
      ]
     },
     "metadata": {},
     "output_type": "display_data"
    },
    {
     "data": {
      "image/png": "[encoded data removed]",
      "text/plain": [
       "<matplotlib.figure.Figure at 0x7fd2c457ec18>"
      ]
     },
     "metadata": {},
     "output_type": "display_data"
    }
   ],
   "source": [
    "for dname, d in dsets.items():\n",
    "    Histdd(d['data']['cs1_a'], d['data']['cs1_b'],\n",
    "           bins=(np.linspace(0, 500, 100), np.linspace(0, 200, 100))).plot(log_scale=True)\n",
    "    draw_box(primary_area_cut, secondary_area_cut, edgecolor='red')\n",
    "    plt.xlabel(\"Corrected primary S1 area\")\n",
    "    plt.ylabel(\"Corrected secondary S1 area\")\n",
    "    plt.title(dname)\n",
    "    finish('selection_%s' % dname)"
   ]
  },
  {
   "cell_type": "code",
   "execution_count": 19,
   "metadata": {
    "collapsed": false
   },
   "outputs": [],
   "source": [
    "for d in dsets.values():\n",
    "    # Apply area cut\n",
    "    mask = (primary_area_cut[0] < d['data']['cs1_a'].values) & (\n",
    "        d['data']['cs1_a'].values < primary_area_cut[1])\n",
    "    mask &= (secondary_area_cut[0] < d['data']['cs1_b'].values ) & (\n",
    "        d['data']['cs1_b'].values < secondary_area_cut[1])\n",
    "    cut(d,  mask)\n",
    "\n",
    "    # Normalize waveforms\n",
    "    d['data']['waveform_area'] = d['waveforms'].sum(axis=0)\n",
    "    d['waveforms'] /= d['data']['waveform_area'].values[np.newaxis, :]"
   ]
  },
  {
   "cell_type": "markdown",
   "metadata": {},
   "source": [
    "# Process S1s"
   ]
  },
  {
   "cell_type": "code",
   "execution_count": 20,
   "metadata": {
    "collapsed": false
   },
   "outputs": [],
   "source": [
    "# import warnings\n",
    "# with warnings.catch_warnings():\n",
    "#     warnings.filterwarnings('error')\n",
    "alignment_options = dict(method='area_fraction', area_fraction=0.1)\n",
    "proc = xs.MatrixProcessor(ts, alignment_options=alignment_options)\n",
    "    \n",
    "for d in dsets.values():\n",
    "    prim_mask = select_primary(d['data']).values\n",
    "\n",
    "    d['prim'] = dict(waveforms=d['waveforms'][:, prim_mask],\n",
    "                     data=d['data'][prim_mask],\n",
    "                     label='Primary S1 (32.2 keV)')\n",
    "    d['secn'] = dict(waveforms=d['waveforms'][:, ~prim_mask],\n",
    "                     data=d['data'][~prim_mask],\n",
    "                     label='Secondary S1 (9.4 keV)')\n",
    "    \n",
    "    # Do the processing\n",
    "    for q in d['prim'], d['secn']:\n",
    "        q.update(proc.process(q['waveforms'], full=True))"
   ]
  },
  {
   "cell_type": "code",
   "execution_count": 21,
   "metadata": {
    "collapsed": false
   },
   "outputs": [
    {
     "data": {
      "text/plain": [
       "(0.15865525393145707, 0.84134474606854293)"
      ]
     },
     "execution_count": 21,
     "metadata": {},
     "output_type": "execute_result"
    }
   ],
   "source": [
    "stats.norm.cdf(-1), stats.norm.cdf(1)"
   ]
  },
  {
   "cell_type": "code",
   "execution_count": 22,
   "metadata": {
    "collapsed": false
   },
   "outputs": [
    {
     "name": "stderr",
     "output_type": "stream",
     "text": [
      "/home/jelle/anaconda3/envs/pax/lib/python3.4/site-packages/matplotlib/figure.py:1742: UserWarning: This figure includes Axes that are not compatible with tight_layout, so its results might be incorrect.\n",
      "  warnings.warn(\"This figure includes Axes that are not \"\n",
      "/home/jelle/anaconda3/envs/pax/lib/python3.4/site-packages/matplotlib/figure.py:1742: UserWarning: This figure includes Axes that are not compatible with tight_layout, so its results might be incorrect.\n",
      "  warnings.warn(\"This figure includes Axes that are not \"\n"
     ]
    },
    {
     "data": {
      "image/png": "[encoded data removed]",
      "text/plain": [
       "<matplotlib.figure.Figure at 0x7fd2f68484a8>"
      ]
     },
     "metadata": {},
     "output_type": "display_data"
    }
   ],
   "source": [
    "t_range = (-100, 600)\n",
    "\n",
    "def comp_both():\n",
    "    for dname, d in dsets.items():\n",
    "        for q in 'prim', 'secn':\n",
    "            plt.plot(ts, d[q]['average_waveform'],\n",
    "                     drawstyle='steps-mid', \n",
    "                     linestyle={'sr1': '-', 'sr0': ':'}[dname],\n",
    "                     color={'prim': 'b', 'secn': 'g'}[q],\n",
    "                     label={'sr0': '\\SI{117}{V/cm}', 'sr1': '\\SI{81}{V/cm}'}[dname] + ': ' + d[q]['label'])\n",
    "    plt.xlim(-200, 500)\n",
    "    plt.ylim(1e-6, None)\n",
    "    \n",
    "inset_plot(comp_both, inset_log=True, inset_lims=(1e-5, 1e-1))\n",
    "plt.tight_layout()\n",
    "finish('s1_shape_comparison')"
   ]
  },
  {
   "cell_type": "markdown",
   "metadata": {},
   "source": [
    "\n",
    "There is essentially no difference between SR0 and SR1. This indicates the drift field has at most a very limited influence on the S1.\n",
    "\n",
    "The primary and secondary S1 also look very much alike. This indicates that Krypton S1s are large enough that statistical effects (SPE gain variation, alignment of S1s) play only a minor role in determining the average shape. Simulating them is probably still relevant, however, to ensure we can reproduce the variation S1 shapes. \n",
    "\n",
    "At early and late times, the secondary S1's average waveform flattens off. This indicates it is affected by outliers, for which the alignment has failed.\n",
    "\n",
    "After 300 ns, even the primary S1s's average waveform flattens off somewhat. This could be due to PMT afterpulses. Excluding this range from the fit below does not change the result (probably because the KS-statistic I used is quite insensitive to disagreements in the tails). "
   ]
  },
  {
   "cell_type": "markdown",
   "metadata": {},
   "source": [
    "### Look for outliers / goodness of fit"
   ]
  },
  {
   "cell_type": "code",
   "execution_count": 23,
   "metadata": {
    "collapsed": false,
    "scrolled": true
   },
   "outputs": [
    {
     "data": {
      "image/png": "[encoded data removed]",
      "text/plain": [
       "<matplotlib.figure.Figure at 0x7fd2bdb4a470>"
      ]
     },
     "metadata": {},
     "output_type": "display_data"
    },
    {
     "data": {
      "image/png": "[encoded data removed]",
      "text/plain": [
       "<matplotlib.figure.Figure at 0x7fd2c43de4a8>"
      ]
     },
     "metadata": {},
     "output_type": "display_data"
    }
   ],
   "source": [
    "for dname, d in dsets.items():\n",
    "    for q in 'prim', 'secn':\n",
    "        plt.hist(d[q]['data_model_ks'], bins=np.linspace(0, 0.3, 100), histtype='step', label=d[q]['label'])\n",
    "    plt.xlabel('KS distance between model and data')\n",
    "    plt.ylabel('Observations')\n",
    "    plt.yscale('log')\n",
    "    plt.legend(loc='upper right')\n",
    "    ks_cut = 0.15\n",
    "    #labeled_vline(ks_cut, \"Cut (primary only)\", 10, color='red', textoffset=0.01)\n",
    "    plt.title(dname)\n",
    "    finish('gof_with_template_%s' % dname)"
   ]
  },
  {
   "cell_type": "markdown",
   "metadata": {},
   "source": [
    "While it's expected that the average KS-distance is larger for the secondary than the primary S1 (as it has fewer photons), we see the secondary S1 has a large population of outliers. The primary S1 has only a handful of outliers. We'll focus on the primary S1 model below; for the moment, let's examine some of the outlying waveforms:"
   ]
  },
  {
   "cell_type": "code",
   "execution_count": 24,
   "metadata": {
    "collapsed": false
   },
   "outputs": [],
   "source": [
    "# mh = Histdd(prim['ks'], secn['ks'], bins=100)\n",
    "# mh.plot(log_scale=True)\n",
    "# # plt.ylim(0, 0.4)\n",
    "# # plt.xlim(0, 0.2)"
   ]
  },
  {
   "cell_type": "code",
   "execution_count": 25,
   "metadata": {
    "collapsed": false
   },
   "outputs": [],
   "source": [
    "# # Verify alignment is done correctly\n",
    "# for wv_i in range(10):\n",
    "#     w = prim_wvs[:, wv_i]\n",
    "#     plt.plot(ts, w, linestyle='steps-mid')\n",
    "#     plt.plot(ts, mm[:, i_noshift + t_shifts[wv_i]//dt], linestyle='steps-mid')\n",
    "#     plt.xlim(-150, 150)\n",
    "#     plt.show()"
   ]
  },
  {
   "cell_type": "code",
   "execution_count": null,
   "metadata": {
    "collapsed": false,
    "scrolled": false
   },
   "outputs": [],
   "source": [
    "# Plot some of the worst offenders\n",
    "for d in [dsets['sr1']['prim'], dsets['sr1']['secn']]:\n",
    "    #for wv_i in np.random.randint(0, high=wvs.shape[1], size=3):\n",
    "    print(d['label'])\n",
    "    for wv_i in np.argsort(d['data_model_ks'])[-3:]:\n",
    "        w = d['waveforms'][:, wv_i]\n",
    "        plt.plot(ts, w, linestyle='steps-mid', label='Data')\n",
    "        plt.plot(ts, d['model_matrix'][:, d['i_noshift'] + d['time_shifts'][wv_i]//dt], linestyle='steps-mid',\n",
    "                label='Template')\n",
    "        #plt.xlim(-500, 500)\n",
    "        plt.xlabel(\"Time (ns) since center of gravity\")\n",
    "        plt.legend(loc='upper right')\n",
    "        plt.ylabel(\"Amplitude (fraction of total)\")\n",
    "        finish('waveform_%d' % wv_i)\n",
    "    "
   ]
  },
  {
   "cell_type": "markdown",
   "metadata": {},
   "source": [
    "For the primary S1, outliers have a large secondary signal merged in, perhaps a big afterpulse, a single electron, or a combination of these. It could actually be the secondary Kr S1, though then the secondary Kr S1 as identified by pax has to arise from some arifact.\n",
    "\n",
    "The worst outliers for the secondary S1 seem to be caused by large afterpulses from the primary S1, messing up the alignment."
   ]
  },
  {
   "cell_type": "markdown",
   "metadata": {
    "heading_collapsed": true
   },
   "source": [
    "### Remove outliers, recompute primary S1"
   ]
  },
  {
   "cell_type": "code",
   "execution_count": 27,
   "metadata": {
    "collapsed": true,
    "hidden": true
   },
   "outputs": [],
   "source": [
    "# prim_outlier_mask = prim['ks'] < ks_cut\n",
    "# prim_wvs = prim_wvs[:, prim_outlier_mask]"
   ]
  },
  {
   "cell_type": "code",
   "execution_count": 28,
   "metadata": {
    "collapsed": true,
    "hidden": true
   },
   "outputs": [],
   "source": [
    "# old_model = prim['mean_template']"
   ]
  },
  {
   "cell_type": "code",
   "execution_count": 29,
   "metadata": {
    "collapsed": true,
    "hidden": true
   },
   "outputs": [],
   "source": [
    "# plabel = prim['label']\n",
    "# prim = doit(prim_wvs)\n",
    "# prim['label'] = plabel"
   ]
  },
  {
   "cell_type": "code",
   "execution_count": 30,
   "metadata": {
    "collapsed": false,
    "hidden": true
   },
   "outputs": [],
   "source": [
    "# (~prim_outlier_mask).sum()/len(prim_outlier_mask)"
   ]
  },
  {
   "cell_type": "code",
   "execution_count": 31,
   "metadata": {
    "collapsed": false,
    "hidden": true
   },
   "outputs": [],
   "source": [
    "# np.sum(True ^ prim_outlier_mask)"
   ]
  },
  {
   "cell_type": "code",
   "execution_count": 32,
   "metadata": {
    "collapsed": false,
    "hidden": true
   },
   "outputs": [],
   "source": [
    "# len(prim_outlier_mask)"
   ]
  },
  {
   "cell_type": "markdown",
   "metadata": {
    "hidden": true
   },
   "source": [
    "Since we remove 3 outliers on ~50k waveforms, the difference is essentially neglgible, we need not have bothered recomputing the waveform."
   ]
  },
  {
   "cell_type": "code",
   "execution_count": 33,
   "metadata": {
    "collapsed": false,
    "hidden": true
   },
   "outputs": [],
   "source": [
    "# plt.plot(ts, prim['mean_template'], label='Template')\n",
    "# plt.plot(ts, old_model - prim['mean_template'], label='Difference')\n",
    "# plt.legend(loc='upper right')\n",
    "# plt.ylim(1e-11, None)\n",
    "# plt.yscale('log')"
   ]
  },
  {
   "cell_type": "markdown",
   "metadata": {
    "heading_collapsed": true
   },
   "source": [
    "### Extract n_sampler"
   ]
  },
  {
   "cell_type": "code",
   "execution_count": 34,
   "metadata": {
    "collapsed": false,
    "hidden": true
   },
   "outputs": [
    {
     "data": {
      "image/png": "[encoded data removed]",
      "text/plain": [
       "<matplotlib.figure.Figure at 0x7fd2bde3fc50>"
      ]
     },
     "metadata": {},
     "output_type": "display_data"
    },
    {
     "data": {
      "image/png": "[encoded data removed]",
      "text/plain": [
       "<matplotlib.figure.Figure at 0x7fd2be228908>"
      ]
     },
     "metadata": {},
     "output_type": "display_data"
    }
   ],
   "source": [
    "dpe_fraction=0.16\n",
    "\n",
    "for dname, d in dsets.items():\n",
    "    x = np.linspace(0, 400, 1000)\n",
    "    h1 = Hist1d(d['prim']['data']['area'].values, xs.utils.centers_to_edges(x))\n",
    "    h1.bin_edges /= (1 + dpe_fraction)\n",
    "    h1.plot()\n",
    "    d['prim']['n_sampler'] = h1.get_random\n",
    "    plt.title(dname)\n",
    "    plt.show()    "
   ]
  },
  {
   "cell_type": "markdown",
   "metadata": {
    "heading_collapsed": true
   },
   "source": [
    "# Model"
   ]
  },
  {
   "cell_type": "code",
   "execution_count": 35,
   "metadata": {
    "collapsed": false,
    "hidden": true
   },
   "outputs": [],
   "source": [
    "q = np.load('../spe_pulse_shape/x1t_sr1_spe.npz')\n",
    "spe_y = q['ys']\n",
    "spe_t = q['ts']\n",
    "spe_y_cum = np.cumsum(spe_y)\n",
    "\n",
    "spe_pulse = interpolate.interp1d(spe_t, spe_y_cum, \n",
    "                                 kind='linear', bounds_error=False, fill_value=(0, 1))\n",
    "\n",
    "def simulate_s1s(n_sampler, n_photons=int(1e7), \n",
    "                 ts=ts,\n",
    "                 t1=3.1, t3=24, fs=0.2, tts=3, **kwargs):\n",
    "    \"\"\"Return wv_matrix for simulated S1s consisting of n_photons in total\n",
    "     * wv_matrix and time_matrix have shape (n_samples, n_s1s). t_shift_vector has shape (n_s1s).\n",
    "     * wv_matrix contains amplitude, time_matrix contains center time of digitizer bin to which amplitude applies\n",
    "     * t_shift_vector contains, for each S1, the time shift applied to align it. \n",
    "       e.g. for alignment on maximum, the time between the interaction time and the maximum time.\n",
    "    \"\"\"\n",
    "    kwargs.setdefault('alignment_options', alignment_options)\n",
    "    kwargs.setdefault('spe_pulse', spe_pulse)\n",
    "    times = np.zeros(n_photons)\n",
    "    \n",
    "    # Singlet/triplet decay\n",
    "    n_singlets = np.random.binomial(n=n_photons, p=fs)\n",
    "    times += np.concatenate([\n",
    "        np.random.exponential(t1, n_singlets),\n",
    "        np.random.exponential(t3, n_photons - n_singlets)\n",
    "    ])\n",
    "    np.random.shuffle(times)   # So we don't put all triplets in the later S1s..\n",
    "\n",
    "    # PMT transition time spread / other effects\n",
    "    times += np.random.normal(0, tts, size=n_photons)\n",
    "    \n",
    "    return xs.simulate_peak_waveforms(times, ts=ts, n_sampler=n_sampler, **kwargs)"
   ]
  },
  {
   "cell_type": "code",
   "execution_count": 36,
   "metadata": {
    "collapsed": false,
    "hidden": true
   },
   "outputs": [],
   "source": [
    "# wv_matrix = simulate_s1s(n_photons=int(1e5), fs=0)\n",
    "# for i in range(10):\n",
    "#     plt.plot(ts, wv_matrix[:, i], linestyle='steps-mid')\n",
    "#     plt.xlim(-500, 500)\n",
    "# t_matrix, t_shifts = xeshape.utils.aligned_time_matrix(ts, wv_matrix)"
   ]
  },
  {
   "cell_type": "code",
   "execution_count": 37,
   "metadata": {
    "collapsed": false,
    "hidden": true,
    "scrolled": true
   },
   "outputs": [
    {
     "data": {
      "text/plain": [
       "(-100, 300)"
      ]
     },
     "execution_count": 37,
     "metadata": {},
     "output_type": "execute_result"
    },
    {
     "data": {
      "image/png": "[encoded data removed]",
      "text/plain": [
       "<matplotlib.figure.Figure at 0x7fd2be23edd8>"
      ]
     },
     "metadata": {},
     "output_type": "display_data"
    }
   ],
   "source": [
    "d = dsets['sr1']['prim']\n",
    "wv_matrix = simulate_s1s(n_sampler=d['n_sampler'], fs=0, t3=40, tts=12)\n",
    "res = proc.process(wv_matrix)\n",
    "plt.plot(ts, d['average_waveform'], linestyle='steps-mid')\n",
    "plt.plot(ts, res['average_waveform'], linestyle='steps-mid')\n",
    "#plt.plot(ts, secn['mean_template'], linestyle='steps-mid')\n",
    "plt.xlim(-100, 300)"
   ]
  },
  {
   "cell_type": "markdown",
   "metadata": {},
   "source": [
    "# Fitting"
   ]
  },
  {
   "cell_type": "code",
   "execution_count": 38,
   "metadata": {
    "collapsed": true
   },
   "outputs": [],
   "source": [
    "#fit_range = (-100, 301)\n",
    "#fit_mask = ((fit_range[0] <= ts)) & (ts <= fit_range[1])\n",
    "fit_mask = np.ones_like(ts).astype(np.bool)\n",
    "\n",
    "def gof(dset='sr1', s1type='prim', echo=True, **params):\n",
    "    \"\"\"Return goodness of fit of parameters. Parameters also selects which dataset to use..\"\"\"\n",
    "    d = dsets[dset][s1type]\n",
    "    data_template = d['average_waveform']\n",
    "    sim_template = proc.process(simulate_s1s(n_sampler=d['n_sampler'], **params))['average_waveform']\n",
    "    ks = np.abs(np.cumsum(sim_template[fit_mask]) - np.cumsum(data_template[fit_mask])).max()   \n",
    "    if echo:\n",
    "        print('ks=%0.5f, %s' % (ks, str(params)))\n",
    "    return ks\n"
   ]
  },
  {
   "cell_type": "code",
   "execution_count": 39,
   "metadata": {
    "collapsed": false,
    "scrolled": true
   },
   "outputs": [
    {
     "name": "stdout",
     "output_type": "stream",
     "text": [
      "ks=0.02249, {'fs': 0, 'tts': 12.0, 't3': 41.0}\n",
      "ks=0.02212, {'fs': 0, 'tts': 12.0, 't3': 41.0}\n",
      "ks=0.01983, {'fs': 0, 'tts': 12.222222222222221, 't3': 41.0}\n",
      "ks=0.01796, {'fs': 0, 'tts': 12.444444444444445, 't3': 41.0}\n",
      "ks=0.01553, {'fs': 0, 'tts': 12.666666666666666, 't3': 41.0}\n",
      "ks=0.01349, {'fs': 0, 'tts': 12.888888888888889, 't3': 41.0}\n",
      "ks=0.01152, {'fs': 0, 'tts': 13.111111111111111, 't3': 41.0}\n",
      "ks=0.00969, {'fs': 0, 'tts': 13.333333333333334, 't3': 41.0}\n",
      "ks=0.00767, {'fs': 0, 'tts': 13.555555555555555, 't3': 41.0}\n",
      "ks=0.00679, {'fs': 0, 'tts': 13.777777777777779, 't3': 41.0}\n",
      "ks=0.00831, {'fs': 0, 'tts': 14.0, 't3': 41.0}\n",
      "ks=0.02171, {'fs': 0, 'tts': 12.0, 't3': 41.222222222222221}\n",
      "ks=0.01947, {'fs': 0, 'tts': 12.222222222222221, 't3': 41.222222222222221}\n",
      "ks=0.01736, {'fs': 0, 'tts': 12.444444444444445, 't3': 41.222222222222221}\n",
      "ks=0.01456, {'fs': 0, 'tts': 12.666666666666666, 't3': 41.222222222222221}\n",
      "ks=0.01285, {'fs': 0, 'tts': 12.888888888888889, 't3': 41.222222222222221}\n",
      "ks=0.01057, {'fs': 0, 'tts': 13.111111111111111, 't3': 41.222222222222221}\n",
      "ks=0.00896, {'fs': 0, 'tts': 13.333333333333334, 't3': 41.222222222222221}\n",
      "ks=0.00700, {'fs': 0, 'tts': 13.555555555555555, 't3': 41.222222222222221}\n",
      "ks=0.00627, {'fs': 0, 'tts': 13.777777777777779, 't3': 41.222222222222221}\n",
      "ks=0.00777, {'fs': 0, 'tts': 14.0, 't3': 41.222222222222221}\n",
      "ks=0.02077, {'fs': 0, 'tts': 12.0, 't3': 41.444444444444443}\n",
      "ks=0.01892, {'fs': 0, 'tts': 12.222222222222221, 't3': 41.444444444444443}\n",
      "ks=0.01652, {'fs': 0, 'tts': 12.444444444444445, 't3': 41.444444444444443}\n",
      "ks=0.01423, {'fs': 0, 'tts': 12.666666666666666, 't3': 41.444444444444443}\n",
      "ks=0.01224, {'fs': 0, 'tts': 12.888888888888889, 't3': 41.444444444444443}\n",
      "ks=0.01024, {'fs': 0, 'tts': 13.111111111111111, 't3': 41.444444444444443}\n",
      "ks=0.00794, {'fs': 0, 'tts': 13.333333333333334, 't3': 41.444444444444443}\n",
      "ks=0.00616, {'fs': 0, 'tts': 13.555555555555555, 't3': 41.444444444444443}\n",
      "ks=0.00620, {'fs': 0, 'tts': 13.777777777777779, 't3': 41.444444444444443}\n",
      "ks=0.00745, {'fs': 0, 'tts': 14.0, 't3': 41.444444444444443}\n",
      "ks=0.02016, {'fs': 0, 'tts': 12.0, 't3': 41.666666666666664}\n",
      "ks=0.01815, {'fs': 0, 'tts': 12.222222222222221, 't3': 41.666666666666664}\n",
      "ks=0.01618, {'fs': 0, 'tts': 12.444444444444445, 't3': 41.666666666666664}\n",
      "ks=0.01380, {'fs': 0, 'tts': 12.666666666666666, 't3': 41.666666666666664}\n",
      "ks=0.01211, {'fs': 0, 'tts': 12.888888888888889, 't3': 41.666666666666664}\n",
      "ks=0.00973, {'fs': 0, 'tts': 13.111111111111111, 't3': 41.666666666666664}\n",
      "ks=0.00751, {'fs': 0, 'tts': 13.333333333333334, 't3': 41.666666666666664}\n",
      "ks=0.00570, {'fs': 0, 'tts': 13.555555555555555, 't3': 41.666666666666664}\n",
      "ks=0.00581, {'fs': 0, 'tts': 13.777777777777779, 't3': 41.666666666666664}\n",
      "ks=0.00714, {'fs': 0, 'tts': 14.0, 't3': 41.666666666666664}\n",
      "ks=0.01972, {'fs': 0, 'tts': 12.0, 't3': 41.888888888888886}\n",
      "ks=0.01759, {'fs': 0, 'tts': 12.222222222222221, 't3': 41.888888888888886}\n",
      "ks=0.01584, {'fs': 0, 'tts': 12.444444444444445, 't3': 41.888888888888886}\n",
      "ks=0.01333, {'fs': 0, 'tts': 12.666666666666666, 't3': 41.888888888888886}\n",
      "ks=0.01126, {'fs': 0, 'tts': 12.888888888888889, 't3': 41.888888888888886}\n",
      "ks=0.00948, {'fs': 0, 'tts': 13.111111111111111, 't3': 41.888888888888886}\n",
      "ks=0.00712, {'fs': 0, 'tts': 13.333333333333334, 't3': 41.888888888888886}\n",
      "ks=0.00556, {'fs': 0, 'tts': 13.555555555555555, 't3': 41.888888888888886}\n",
      "ks=0.00570, {'fs': 0, 'tts': 13.777777777777779, 't3': 41.888888888888886}\n",
      "ks=0.00660, {'fs': 0, 'tts': 14.0, 't3': 41.888888888888886}\n",
      "ks=0.01917, {'fs': 0, 'tts': 12.0, 't3': 42.111111111111114}\n",
      "ks=0.01681, {'fs': 0, 'tts': 12.222222222222221, 't3': 42.111111111111114}\n",
      "ks=0.01514, {'fs': 0, 'tts': 12.444444444444445, 't3': 42.111111111111114}\n",
      "ks=0.01296, {'fs': 0, 'tts': 12.666666666666666, 't3': 42.111111111111114}\n",
      "ks=0.01077, {'fs': 0, 'tts': 12.888888888888889, 't3': 42.111111111111114}\n",
      "ks=0.00804, {'fs': 0, 'tts': 13.111111111111111, 't3': 42.111111111111114}\n",
      "ks=0.00638, {'fs': 0, 'tts': 13.333333333333334, 't3': 42.111111111111114}\n",
      "ks=0.00567, {'fs': 0, 'tts': 13.555555555555555, 't3': 42.111111111111114}\n",
      "ks=0.00584, {'fs': 0, 'tts': 13.777777777777779, 't3': 42.111111111111114}\n",
      "ks=0.00638, {'fs': 0, 'tts': 14.0, 't3': 42.111111111111114}\n",
      "ks=0.01875, {'fs': 0, 'tts': 12.0, 't3': 42.333333333333336}\n",
      "ks=0.01656, {'fs': 0, 'tts': 12.222222222222221, 't3': 42.333333333333336}\n",
      "ks=0.01459, {'fs': 0, 'tts': 12.444444444444445, 't3': 42.333333333333336}\n",
      "ks=0.01223, {'fs': 0, 'tts': 12.666666666666666, 't3': 42.333333333333336}\n",
      "ks=0.00978, {'fs': 0, 'tts': 12.888888888888889, 't3': 42.333333333333336}\n",
      "ks=0.00830, {'fs': 0, 'tts': 13.111111111111111, 't3': 42.333333333333336}\n",
      "ks=0.00587, {'fs': 0, 'tts': 13.333333333333334, 't3': 42.333333333333336}\n",
      "ks=0.00582, {'fs': 0, 'tts': 13.555555555555555, 't3': 42.333333333333336}\n",
      "ks=0.00600, {'fs': 0, 'tts': 13.777777777777779, 't3': 42.333333333333336}\n",
      "ks=0.00615, {'fs': 0, 'tts': 14.0, 't3': 42.333333333333336}\n",
      "ks=0.01837, {'fs': 0, 'tts': 12.0, 't3': 42.555555555555557}\n",
      "ks=0.01593, {'fs': 0, 'tts': 12.222222222222221, 't3': 42.555555555555557}\n",
      "ks=0.01397, {'fs': 0, 'tts': 12.444444444444445, 't3': 42.555555555555557}\n",
      "ks=0.01165, {'fs': 0, 'tts': 12.666666666666666, 't3': 42.555555555555557}\n",
      "ks=0.00980, {'fs': 0, 'tts': 12.888888888888889, 't3': 42.555555555555557}\n",
      "ks=0.00727, {'fs': 0, 'tts': 13.111111111111111, 't3': 42.555555555555557}\n",
      "ks=0.00570, {'fs': 0, 'tts': 13.333333333333334, 't3': 42.555555555555557}\n",
      "ks=0.00589, {'fs': 0, 'tts': 13.555555555555555, 't3': 42.555555555555557}\n",
      "ks=0.00613, {'fs': 0, 'tts': 13.777777777777779, 't3': 42.555555555555557}\n",
      "ks=0.00623, {'fs': 0, 'tts': 14.0, 't3': 42.555555555555557}\n",
      "ks=0.01753, {'fs': 0, 'tts': 12.0, 't3': 42.777777777777779}\n",
      "ks=0.01566, {'fs': 0, 'tts': 12.222222222222221, 't3': 42.777777777777779}\n",
      "ks=0.01338, {'fs': 0, 'tts': 12.444444444444445, 't3': 42.777777777777779}\n",
      "ks=0.01103, {'fs': 0, 'tts': 12.666666666666666, 't3': 42.777777777777779}\n",
      "ks=0.00922, {'fs': 0, 'tts': 12.888888888888889, 't3': 42.777777777777779}\n",
      "ks=0.00696, {'fs': 0, 'tts': 13.111111111111111, 't3': 42.777777777777779}\n",
      "ks=0.00584, {'fs': 0, 'tts': 13.333333333333334, 't3': 42.777777777777779}\n",
      "ks=0.00605, {'fs': 0, 'tts': 13.555555555555555, 't3': 42.777777777777779}\n",
      "ks=0.00620, {'fs': 0, 'tts': 13.777777777777779, 't3': 42.777777777777779}\n",
      "ks=0.00640, {'fs': 0, 'tts': 14.0, 't3': 42.777777777777779}\n",
      "ks=0.01695, {'fs': 0, 'tts': 12.0, 't3': 43.0}\n",
      "ks=0.01507, {'fs': 0, 'tts': 12.222222222222221, 't3': 43.0}\n",
      "ks=0.01268, {'fs': 0, 'tts': 12.444444444444445, 't3': 43.0}\n",
      "ks=0.01066, {'fs': 0, 'tts': 12.666666666666666, 't3': 43.0}\n",
      "ks=0.00879, {'fs': 0, 'tts': 12.888888888888889, 't3': 43.0}\n",
      "ks=0.00632, {'fs': 0, 'tts': 13.111111111111111, 't3': 43.0}\n",
      "ks=0.00610, {'fs': 0, 'tts': 13.333333333333334, 't3': 43.0}\n",
      "ks=0.00610, {'fs': 0, 'tts': 13.555555555555555, 't3': 43.0}\n",
      "ks=0.00630, {'fs': 0, 'tts': 13.777777777777779, 't3': 43.0}\n",
      "ks=0.00644, {'fs': 0, 'tts': 14.0, 't3': 43.0}\n"
     ]
    }
   ],
   "source": [
    "# Don't trust regular minimizers for MC work: they will ask for gradients and you will  die\n",
    "# Should use blueice integration.. too lazy\n",
    "optresult = optimize.brute(\n",
    "    lambda x: gof(fs=0, t3=x[0], tts=x[1]),\n",
    "    #[50, 12],\n",
    "    #bounds=[[20, 70], [5, 25]],\n",
    "    #options=dict(maxfev=100),\n",
    "    #method='Powell',\n",
    "    # The first time you fit, obviously choose a wider range!\n",
    "    #ranges=[(42.5, 44), (12, 13)],\n",
    "    #ranges=[(42, 44), (12, 13.5)],\n",
    "    ranges=[(41, 43), (12, 14)],\n",
    "    Ns=10,\n",
    "    finish=None,\n",
    ")"
   ]
  },
  {
   "cell_type": "code",
   "execution_count": 40,
   "metadata": {
    "collapsed": false
   },
   "outputs": [
    {
     "data": {
      "text/plain": [
       "array([ 41.88888889,  13.55555556])"
      ]
     },
     "execution_count": 40,
     "metadata": {},
     "output_type": "execute_result"
    }
   ],
   "source": [
    "optresult"
   ]
  },
  {
   "cell_type": "code",
   "execution_count": 41,
   "metadata": {
    "collapsed": false
   },
   "outputs": [
    {
     "data": {
      "text/plain": [
       "52881"
      ]
     },
     "execution_count": 41,
     "metadata": {},
     "output_type": "execute_result"
    }
   ],
   "source": [
    "len(dsets['sr1']['prim']['data'])"
   ]
  },
  {
   "cell_type": "code",
   "execution_count": 42,
   "metadata": {
    "collapsed": false
   },
   "outputs": [
    {
     "data": {
      "text/plain": [
       "44205.8150867312"
      ]
     },
     "execution_count": 42,
     "metadata": {},
     "output_type": "execute_result"
    }
   ],
   "source": [
    "#D = 0.00552\n",
    "D = 5.6e-3\n",
    "c_alpha = (-0.5 * np.log(0.5/2))**0.5\n",
    "c_alpha**2 * 2 / D**2"
   ]
  },
  {
   "cell_type": "code",
   "execution_count": 43,
   "metadata": {
    "collapsed": false
   },
   "outputs": [],
   "source": [
    "d = dsets['sr1']['prim']\n",
    "sim_wvs = proc.process(simulate_s1s(n_sampler=d['n_sampler'], n_photons=int(1e7),\n",
    "                                    fs=0, t3=optresult[0], tts=optresult[1]),\n",
    "                       full=True)"
   ]
  },
  {
   "cell_type": "code",
   "execution_count": 44,
   "metadata": {
    "collapsed": false
   },
   "outputs": [
    {
     "data": {
      "image/png": "[encoded data removed]",
      "text/plain": [
       "<matplotlib.figure.Figure at 0x7fd2bdf644e0>"
      ]
     },
     "metadata": {},
     "output_type": "display_data"
    }
   ],
   "source": [
    "h1 = Hist1d(sim_wvs['areas'] * 10, bins=100)\n",
    "#Hist1d(d['areas'] * 10, bins=h1.bin_centers).plot()\n",
    "h2 = Hist1d(d['data']['s1'].values, bins=h1.bin_centers)\n",
    "for h, label in zip([h1, h2], ['Simulation', 'Data']):\n",
    "    plt.plot(h.bin_centers, h.normalized_histogram, linestyle='steps-mid', label=label)\n",
    "plt.xlabel(\"Area (PE)\")\n",
    "plt.ylabel(\"Fraction of observations\")\n",
    "plt.legend(loc='upper right')\n",
    "finish('area_comparison')"
   ]
  },
  {
   "cell_type": "code",
   "execution_count": 45,
   "metadata": {
    "collapsed": false
   },
   "outputs": [
    {
     "data": {
      "text/plain": [
       "0.99807511465941623"
      ]
     },
     "execution_count": 45,
     "metadata": {},
     "output_type": "execute_result"
    }
   ],
   "source": [
    "np.median(sim_wvs['areas']) * 10 / np.median(d['data']['s1'].values)"
   ]
  },
  {
   "cell_type": "code",
   "execution_count": 46,
   "metadata": {
    "collapsed": true
   },
   "outputs": [],
   "source": [
    "def delta_pulse(ts):\n",
    "    y = np.zeros_like(ts)\n",
    "    y[ts>0] = 1\n",
    "    return y\n",
    "sim_wvs_delta_pulse = proc.process(simulate_s1s(n_sampler=d['n_sampler'], n_photons=int(1e7),\n",
    "                                                spe_pulse=delta_pulse,\n",
    "                                                fs=0, t3=optresult[0], tts=optresult[1]),\n",
    "                       full=True)"
   ]
  },
  {
   "cell_type": "code",
   "execution_count": 47,
   "metadata": {
    "collapsed": false,
    "scrolled": true
   },
   "outputs": [],
   "source": [
    "from pax import configuration\n",
    "pax_config = configuration.load_configuration('XENON1T')\n",
    "\n",
    "y = np.cumsum(pax_config['WaveformSimulator']['pe_pulse_ys'])\n",
    "y /= y[-1]\n",
    "old_pulse = interpolate.interp1d(pax_config['WaveformSimulator']['pe_pulse_ts'], y, \n",
    "                                 kind='linear', bounds_error=False, fill_value=(0, 1))\n",
    "\n",
    "sim_wvs_old = proc.process(simulate_s1s(n_sampler=d['n_sampler'], fs=0, n_photons=int(2e6),\n",
    "                                        t3=pax_config['WaveformSimulator']['s1_decay_time'], \n",
    "                                        spe_pulse=old_pulse,\n",
    "                                        tts=pax_config['WaveformSimulator']['pmt_transit_time_spread']),\n",
    "                           full=True)"
   ]
  },
  {
   "cell_type": "code",
   "execution_count": 48,
   "metadata": {
    "collapsed": false
   },
   "outputs": [
    {
     "data": {
      "text/plain": [
       "((251, 52881), (251, 46107))"
      ]
     },
     "execution_count": 48,
     "metadata": {},
     "output_type": "execute_result"
    }
   ],
   "source": [
    "d['wv_matrix'].shape, sim_wvs['wv_matrix'].shape"
   ]
  },
  {
   "cell_type": "markdown",
   "metadata": {},
   "source": [
    "Simulate, write, load, process, and load the processed data... Here this goes at 5000 S1s/sec (on my laptop)."
   ]
  },
  {
   "cell_type": "code",
   "execution_count": 49,
   "metadata": {
    "collapsed": false
   },
   "outputs": [
    {
     "name": "stderr",
     "output_type": "stream",
     "text": [
      "/home/jelle/anaconda3/envs/pax/lib/python3.4/site-packages/matplotlib/figure.py:1742: UserWarning: This figure includes Axes that are not compatible with tight_layout, so its results might be incorrect.\n",
      "  warnings.warn(\"This figure includes Axes that are not \"\n"
     ]
    },
    {
     "data": {
      "image/png": "[encoded data removed]",
      "text/plain": [
       "<matplotlib.figure.Figure at 0x7fd2baeddda0>"
      ]
     },
     "metadata": {},
     "output_type": "display_data"
    }
   ],
   "source": [
    "def bla():\n",
    "    plt.plot(ts, d['average_waveform'], \n",
    "             linestyle='steps-mid', label='Data')\n",
    "    plt.plot(ts, sim_wvs['average_waveform'],\n",
    "             linestyle='steps-mid', label='Simulation')\n",
    "    plt.plot(ts, sim_wvs_delta_pulse['average_waveform'],\n",
    "             drawstyle='steps-mid', dashes=(0.5, 0.5),\n",
    "             label='Simulation, $\\delta$ pulse')\n",
    "#     plt.plot(ts, sim_wvs_old['average_waveform'],\n",
    "#              drawstyle='steps-mid',\n",
    "#              label='Simulation, current model')\n",
    "    plt.xlim(-50, 400)\n",
    "    \n",
    "inset_plot(bla, inset_log=True, inset_lims=(1e-5, 1e-1))\n",
    "finish('s1_shape_fit')"
   ]
  },
  {
   "cell_type": "markdown",
   "metadata": {},
   "source": [
    "What went wrong in my SR0 S1 shape analysis (https://github.com/XENON1T/pax/pull/524)? Most importantly, looked at secondary S1. You get the right model, but the widths will seem terrible because of the afterpulse contamination from the primary S1.\n",
    "  \n",
    "  "
   ]
  },
  {
   "cell_type": "code",
   "execution_count": 50,
   "metadata": {
    "collapsed": false
   },
   "outputs": [],
   "source": [
    "# from pax import configuration\n",
    "# ap_conf = configuration.load_configuration('pmt_afterpulsing')\n",
    "# for name, c in ap_conf['WaveformSimulator']['each_pmt_afterpulse_types'][126].items():\n",
    "#     print(c)"
   ]
  },
  {
   "cell_type": "markdown",
   "metadata": {},
   "source": [
    "# Compare widths"
   ]
  },
  {
   "cell_type": "code",
   "execution_count": 51,
   "metadata": {
    "collapsed": false
   },
   "outputs": [
    {
     "data": {
      "image/png": "[encoded data removed]",
      "text/plain": [
       "<matplotlib.figure.Figure at 0x7fd2badada58>"
      ]
     },
     "metadata": {},
     "output_type": "display_data"
    }
   ],
   "source": [
    "f, axes = plt.subplots(2, 2, sharey=True)\n",
    "axes = axes.ravel()\n",
    "\n",
    "def robust_std(x):\n",
    "    return (np.percentile(x, 100 * stats.norm.cdf(1)) - \n",
    "            np.percentile(x, 100 * stats.norm.cdf(-1)))/2\n",
    "\n",
    "for af_i, af in enumerate([0.25, 0.5, 0.75, 0.9]):\n",
    "    ax = axes[af_i]\n",
    "    plt.sca(ax)\n",
    "        \n",
    "    bins = dict()\n",
    "    means = []\n",
    "    stds = []\n",
    "    for q, label, color in zip((d, sim_wvs), ('Data', 'Sim.'), 'bg'):\n",
    "        x = q['fraction_area_width'][af] * 10\n",
    "        means.append(x.mean())\n",
    "        # Use robust estimate of std, don't want to get massive disagreement because of a few outliers\n",
    "        stds.append(robust_std(x))\n",
    "        \n",
    "        if af not in bins:\n",
    "            # Figure out sensible bins:\n",
    "            mu = x.mean()\n",
    "            bins[af] = np.linspace(mu - 25, mu + 25, 50)\n",
    "        h1 = Hist1d(x, bins[af]);\n",
    "        \n",
    "        plt.plot(h1.bin_centers, h1.normalized_histogram, \n",
    "                 color=color, linestyle='steps-mid',\n",
    "                 label=label)\n",
    "        \n",
    "#     ytext = h1.normalized_histogram.max() * 0.35\n",
    "#     plt.plot(means, 0.025 * np.ones(2), c='k')\n",
    "#     plt.text(np.mean(means), 0, \"%0.2f ns\" % abs(means[1] - means[0]),\n",
    "#              horizontalalignment='center')\n",
    "    \n",
    "    plt.text(0.59, 0.85,\n",
    "             (r'$\\Delta \\mu / \\mu = %0.1f \\%%$' + \"\\n\" + r'$\\Delta \\sigma / \\sigma = %0.1f \\%%$') % (\n",
    "                -100 * (means[1] - means[0])/means[1],\n",
    "                -100 * (stds[1] - stds[0])/stds[1]),\n",
    "             transform=ax.transAxes,\n",
    "             verticalalignment='top',\n",
    "            )\n",
    "        \n",
    "    plt.text(0.1, 0.85, \n",
    "             \"%d\\%%\" % (af * 100),\n",
    "             transform=ax.transAxes,\n",
    "             verticalalignment='top',\n",
    "             #horizontalalignment='center'\n",
    "            )\n",
    "    \n",
    "    plt.grid(alpha=0.2)\n",
    "    plt.xlim(h1.bin_edges[0], h1.bin_edges[-1])\n",
    "    \n",
    "axes[0].legend(loc='lower left', handlelength=1, frameon=False)\n",
    "axes[2].set_ylabel(\"Fraction of observations\")\n",
    "axes[2].set_xlabel(\"Width (ns) of central area fraction\")\n",
    "#plt.ylabel(\"Fraction of total\")\n",
    "#plt.ylim(0, plt.ylim()[-1] * 1.2)\n",
    "#plt.yscale('log')\n",
    "plt.tight_layout()\n",
    "plt.gcf().subplots_adjust(hspace=0.2, wspace=0.05)\n",
    "finish('s1_width_comparison')"
   ]
  },
  {
   "cell_type": "markdown",
   "metadata": {},
   "source": [
    "Positive: data is larger. Negative: simulation is larger.\n",
    "\n",
    "Like to know two things: (1) do we match in a variable you didn't fit (2) can we match variations in data.\n",
    "Figure X shows answer is 'yes to both'.\n"
   ]
  },
  {
   "cell_type": "code",
   "execution_count": 52,
   "metadata": {
    "collapsed": false
   },
   "outputs": [
    {
     "ename": "TypeError",
     "evalue": "simulate_s1s() missing 1 required positional argument: 'n_sampler'",
     "output_type": "error",
     "traceback": [
      "\u001b[1;31m---------------------------------------------------------------------------\u001b[0m",
      "\u001b[1;31mTypeError\u001b[0m                                 Traceback (most recent call last)",
      "\u001b[1;32m<ipython-input-52-cff1e3f46670>\u001b[0m in \u001b[0;36m<module>\u001b[1;34m()\u001b[0m\n\u001b[0;32m      1\u001b[0m bla = proc.process(simulate_s1s(n_dist=stats.randint(69, 70), \n\u001b[0;32m      2\u001b[0m                           \u001b[0mn_photons\u001b[0m\u001b[1;33m=\u001b[0m\u001b[0mint\u001b[0m\u001b[1;33m(\u001b[0m\u001b[1;36m1e6\u001b[0m\u001b[1;33m)\u001b[0m\u001b[1;33m,\u001b[0m\u001b[1;33m\u001b[0m\u001b[0m\n\u001b[1;32m----> 3\u001b[1;33m                           fs=0, t3=optresult[0], tts=optresult[1]),\n\u001b[0m\u001b[0;32m      4\u001b[0m                        full=True)\n",
      "\u001b[1;31mTypeError\u001b[0m: simulate_s1s() missing 1 required positional argument: 'n_sampler'"
     ]
    }
   ],
   "source": [
    "bla = proc.process(simulate_s1s(n_dist=stats.randint(69, 70), \n",
    "                          n_photons=int(1e6),\n",
    "                          fs=0, t3=optresult[0], tts=optresult[1]),\n",
    "                       full=True)"
   ]
  },
  {
   "cell_type": "code",
   "execution_count": null,
   "metadata": {
    "collapsed": false
   },
   "outputs": [],
   "source": [
    "robust_std(sim_wvs['fraction_area_width'][0.5] * 10)"
   ]
  },
  {
   "cell_type": "code",
   "execution_count": null,
   "metadata": {
    "collapsed": false
   },
   "outputs": [],
   "source": [
    "robust_std(bla['fraction_area_width'][0.5] * 10)"
   ]
  },
  {
   "cell_type": "code",
   "execution_count": null,
   "metadata": {
    "collapsed": false
   },
   "outputs": [],
   "source": [
    "# plt.scatter(bla['areas'] * 10, \n",
    "#             bla['fraction_area_width'][0.5] * 10, marker='.')"
   ]
  },
  {
   "cell_type": "code",
   "execution_count": null,
   "metadata": {
    "collapsed": false
   },
   "outputs": [],
   "source": [
    "x = np.linspace(0, 5000, 100)\n",
    "ap_hist = Hist1d(bins=x)\n",
    "for name, c in ap_conf['WaveformSimulator']['each_pmt_afterpulse_types'][126].items():\n",
    "    tps = c['time_parameters']\n",
    "    if c['time_distribution'] == 'normal':\n",
    "        dist = stats.norm(loc=tps['loc'], scale=tps['scale'])\n",
    "    elif c['time_distribution'] == 'uniform':\n",
    "        dist = stats.uniform(tps['low'], tps['high'])\n",
    "    #print(c['time_parameters'], c['time_distribution'])\n",
    "    y = np.diff(dist.cdf(x)) * c['p']\n",
    "    ap_hist += y\n",
    "    plt.plot((x[1:] + x[:-1])/2, y, label='' if label.startswith('Uniform'))\n",
    "ap_hist.plot(c='k', label='Total')\n",
    "plt.legend(loc='upper right')\n",
    "#plt.yscale('log')\n",
    "plt.show()"
   ]
  },
  {
   "cell_type": "code",
   "execution_count": null,
   "metadata": {
    "collapsed": false
   },
   "outputs": [],
   "source": [
    "ap_hist.histogram.sum()"
   ]
  },
  {
   "cell_type": "markdown",
   "metadata": {},
   "source": [
    "According to the current afterpulse config, the total afterpulse probability is 1 - 2 % (it varies per PMT)."
   ]
  },
  {
   "cell_type": "code",
   "execution_count": null,
   "metadata": {
    "collapsed": false
   },
   "outputs": [],
   "source": [
    "for af in [0.25, 0.5, 0.75, 0.9]:\n",
    "    wbins = np.arange(0, 251)\n",
    "    for q, label, color in zip((d, sim_wvs), ('Data', 'Simulation'), 'bg'):\n",
    "        h1 = Hist1d(q['fraction_area_width'][af] * 10, wbins);\n",
    "        plt.plot(h1.bin_centers, h1.normalized_histogram, \n",
    "                 color=color, linestyle='steps-mid',\n",
    "                 label=label if af == 0.25 else None)\n",
    "    plt.text(h1.mean, min(h1.normalized_histogram.max() * 1.2, 0.7), \"%d\\%%\" % (af * 100),\n",
    "             horizontalalignment='center')\n",
    "    \n",
    "    plt.legend(loc='upper right')\n",
    "plt.xlabel(\"Width (ns) of central area fraction\")\n",
    "plt.ylabel(\"Fraction of total\")\n",
    "plt.ylim(0, 0.2)\n",
    "plt.tight_layout()\n",
    "plt.show()"
   ]
  },
  {
   "cell_type": "markdown",
   "metadata": {},
   "source": []
  },
  {
   "cell_type": "code",
   "execution_count": null,
   "metadata": {
    "collapsed": false
   },
   "outputs": [],
   "source": [
    "# for wv_i in np.random.choice(np.where((d['width_std'] > 70))[0], 5):\n",
    "#     plt.plot(ts - d['time_shifts'][wv_i], d['waveforms'][:, wv_i], c='k', alpha=0.3, linestyle='steps-mid')\n",
    "#     plt.plot(ts, sim_wvs['average_waveform'], c='b', linestyle='steps-mid')\n",
    "#     plt.xlim(None, None)\n",
    "#     plt.show()"
   ]
  },
  {
   "cell_type": "code",
   "execution_count": null,
   "metadata": {
    "collapsed": false
   },
   "outputs": [],
   "source": [
    "wbins = np.arange(50, 100)\n",
    "for q in (d, sim_wvs):\n",
    "    plt.hist(q['width_std'], wbins, histtype='step', normed=True);"
   ]
  },
  {
   "cell_type": "code",
   "execution_count": null,
   "metadata": {
    "collapsed": false
   },
   "outputs": [],
   "source": [
    "from scipy import stats\n",
    "mu = 1\n",
    "sigma = 0.5\n",
    "x = np.linspace(-1, 3, 100)\n",
    "dist = stats.truncnorm(-mu/sigma, float('inf'), loc=mu, scale=sigma)\n",
    "plt.plot(x, dist.pdf(x))\n",
    "plt.axvline(dist.mean(), color='r')"
   ]
  },
  {
   "cell_type": "markdown",
   "metadata": {},
   "source": [
    "### Check if 50% area computation is the same"
   ]
  },
  {
   "cell_type": "code",
   "execution_count": null,
   "metadata": {
    "collapsed": false
   },
   "outputs": [],
   "source": [
    "a = dsets['sr1']['prim']['fraction_area_width'][0.5] * 10\n",
    "b = dsets['sr1']['prim']['data']['s1_range_50p_area'].values\n",
    "np.median(np.abs((a-b)/a))"
   ]
  },
  {
   "cell_type": "code",
   "execution_count": null,
   "metadata": {
    "collapsed": false
   },
   "outputs": [],
   "source": [
    "#1/data['run_number'] + data['event_number']"
   ]
  },
  {
   "cell_type": "code",
   "execution_count": null,
   "metadata": {
    "collapsed": true
   },
   "outputs": [],
   "source": [
    "np.in1d(data['left']"
   ]
  },
  {
   "cell_type": "markdown",
   "metadata": {
    "heading_collapsed": true
   },
   "source": [
    "### Bla"
   ]
  },
  {
   "cell_type": "code",
   "execution_count": null,
   "metadata": {
    "collapsed": false,
    "hidden": true
   },
   "outputs": [],
   "source": [
    "Histdd(data2['area'], data2['range_50p_area'], \n",
    "       bins=(np.linspace(0, 500, 100), 100)).plot(log_scale=True)"
   ]
  },
  {
   "cell_type": "code",
   "execution_count": null,
   "metadata": {
    "collapsed": true,
    "hidden": true
   },
   "outputs": [],
   "source": [
    "(the SEs are binned based on the average SE width at their position, not based on their actual width (which is very stochastic))"
   ]
  },
  {
   "cell_type": "markdown",
   "metadata": {
    "heading_collapsed": true
   },
   "source": [
    "# OLD JUNK"
   ]
  },
  {
   "cell_type": "code",
   "execution_count": null,
   "metadata": {
    "collapsed": false,
    "hidden": true
   },
   "outputs": [],
   "source": [
    "raise ZeroDivisionError"
   ]
  },
  {
   "cell_type": "code",
   "execution_count": null,
   "metadata": {
    "collapsed": false,
    "hidden": true
   },
   "outputs": [],
   "source": [
    "#get_params(dict())['hit_distribution']"
   ]
  },
  {
   "cell_type": "code",
   "execution_count": null,
   "metadata": {
    "collapsed": false,
    "hidden": true
   },
   "outputs": [],
   "source": [
    "# class S1WaveformSource(xeshape.bi.WaveformSource):\n",
    "#     def simulate_wv_matrix(self, n_events):\n",
    "#         c = self.config\n",
    "        \n",
    "#         # Simulat a bit more photons than we need\n",
    "#         n_photons = (c['hit_dist'].mean() + c['hit_dist'].std()) * n_events\n",
    "        \n",
    "#         wv_matrix = simulate_s1s(n_photons, **c)\n",
    "#         return wv_matrix[:,:n_events]\n",
    "\n",
    "# config = dict(\n",
    "#     sources=[dict(name='Freddie')],\n",
    "#     analysis_space=(('t', ts),),\n",
    "#     default_source_class=S1WaveformSource,\n",
    "#     n_events_for_model=int(1e3),\n",
    "# )\n",
    "# config.update(default_params)\n",
    "# config['fs'] = 0"
   ]
  },
  {
   "cell_type": "markdown",
   "metadata": {},
   "source": [
    "# OLD junk"
   ]
  },
  {
   "cell_type": "code",
   "execution_count": null,
   "metadata": {
    "collapsed": false
   },
   "outputs": [],
   "source": [
    "from pax import units\n",
    "plt.hist(data['left'] * 10 * units.ns / units.ms, bins=np.linspace(0, 2.5, 100));\n",
    "plt.yscale('log')"
   ]
  },
  {
   "cell_type": "code",
   "execution_count": null,
   "metadata": {
    "collapsed": false
   },
   "outputs": [],
   "source": [
    "mh = Histdd(data['left'] * 10 * units.ns / units.ms, \n",
    "            data['c_area'],\n",
    "            bins=(np.linspace(0, 2.5, 100), np.linspace(0, 450, 100)))\n",
    "\n",
    "mh.plot(log_scale=True)\n",
    "#plt.yscale('log')\n",
    "plt.xlabel(\"Time (ms) in event\")\n",
    "plt.ylabel(\"Corrected S1 Area (pe)\")\n",
    "x = 0.5\n",
    "#t1 = plt.text(x, 4, \"Few hits\", backgroundcolor='white')\n",
    "#t2 = plt.text(x, 20, \"SE\")\n",
    "t3 = plt.text(x, 80, \"9.4 keV\")\n",
    "t4 = plt.text(x, 250, \"32 keV\")\n",
    "t5 = plt.text(1.5, 170, \"Pile-up / early trigger\", verticalalignment='center')\n",
    "for t in [t1, t2, t3, t4, t5]:\n",
    "    t.set_bbox(dict(facecolor='white', alpha=0.8, edgecolor='white'))\n",
    "\n",
    "#labeled_hline(50, \"Cut below\", 0.2, color='red', textoffset=10)\n",
    "plt.tight_layout()"
   ]
  },
  {
   "cell_type": "code",
   "execution_count": null,
   "metadata": {
    "collapsed": false
   },
   "outputs": [],
   "source": [
    "prim_mask = select_primary(data)\n",
    "for secondary in False, True:\n",
    "    d = data[secondary ^ prim_mask]\n",
    "    Histdd((d['center_time'] - 1 * units.ms) / units.us, \n",
    "           d['c_area'],\n",
    "           bins=(np.linspace(0, 3, 100), \n",
    "                 np.logspace(1, 4, 100))).plot(log_scale=True)\n",
    "        \n",
    "    offset = 0.6\n",
    "    if secondary:\n",
    "        plt.axvspan(offset + 0.6, offset + 2, color='red', alpha=0.1)\n",
    "        plt.text(offset + (0.6+2)/2, 1000, \"Preselection\\npreferred\", horizontalalignment='center', color='red')\n",
    "\n",
    "        plt.axhspan(*secondary_area_cut, color='blue', alpha=0.2)\n",
    "        plt.text(0.2, \n",
    "                 np.exp(np.mean(np.log(secondary_area_cut))),\n",
    "                 \"Area\\nsel.\",\n",
    "                 horizontalalignment='center', verticalalignment='center',\n",
    "                 color='blue')\n",
    "        \n",
    "        plt.title(\"Secondary S1\")\n",
    "        \n",
    "    else:\n",
    "        #labeled_vline(offset, \"Trigger offset\", 1500, linestyle=':', textoffset = 0.1, color='r')\n",
    "\n",
    "        plt.axhspan(*primary_area_cut, color='blue', alpha=0.2)\n",
    "        plt.text(0.2, \n",
    "                 np.exp(np.mean(np.log(primary_area_cut))),\n",
    "                 \"Area\\nsel.\",\n",
    "                 horizontalalignment='center', verticalalignment='center',\n",
    "                 color='blue')\n",
    "        \n",
    "        t = plt.text(1, 700, \"Merged with SE?\")\n",
    "        plt.title(\"Primary S1\")\n",
    "        \n",
    "    plt.yscale('log')\n",
    "    plt.xlabel(\"Center time (\\si{\\micro s}) since trigger time\")\n",
    "    plt.ylabel(\"Corrected S1 Area (pe)\")\n",
    "    plt.show()"
   ]
  },
  {
   "cell_type": "code",
   "execution_count": null,
   "metadata": {
    "collapsed": false
   },
   "outputs": [],
   "source": []
  },
  {
   "cell_type": "code",
   "execution_count": null,
   "metadata": {
    "collapsed": false
   },
   "outputs": [],
   "source": []
  },
  {
   "cell_type": "code",
   "execution_count": null,
   "metadata": {
    "collapsed": false
   },
   "outputs": [],
   "source": [
    "# plt.hist(data2['cs1_b'], bins=np.logspace(1, 4, 100))\n",
    "# plt.xscale('log')\n",
    "# plt.yscale('log')"
   ]
  },
  {
   "cell_type": "code",
   "execution_count": null,
   "metadata": {
    "collapsed": false
   },
   "outputs": [],
   "source": [
    "hax.cuts.history(data2)"
   ]
  },
  {
   "cell_type": "code",
   "execution_count": null,
   "metadata": {
    "collapsed": false
   },
   "outputs": [],
   "source": [
    "plt.hist(data2['cs1_a'], np.logspace(0, 4, 100), histtype='step');\n",
    "plt.hist(data2['cs1_b'], np.logspace(0, 4, 100), histtype='step');\n",
    "plt.xscale('log')"
   ]
  },
  {
   "cell_type": "code",
   "execution_count": null,
   "metadata": {
    "collapsed": false
   },
   "outputs": [],
   "source": [
    "# pm.sum() / len(data2)"
   ]
  },
  {
   "cell_type": "code",
   "execution_count": null,
   "metadata": {
    "collapsed": false
   },
   "outputs": [],
   "source": []
  },
  {
   "cell_type": "code",
   "execution_count": null,
   "metadata": {
    "collapsed": false
   },
   "outputs": [],
   "source": [
    "hax.cuts.history(data2)"
   ]
  },
  {
   "cell_type": "code",
   "execution_count": null,
   "metadata": {
    "collapsed": false
   },
   "outputs": [],
   "source": [
    "def select_primary(data):\n",
    "    return data['s1_a_center_time'] == data['center_time']\n",
    "\n",
    "prim_mask = select_primary(data2)\n",
    "for secondary in False, True:\n",
    "    d = data2[secondary ^ prim_mask]\n",
    "    Histdd((d['center_time'] - 1 * units.ms) / units.us, \n",
    "           d['area'],\n",
    "           bins=(np.linspace(0, 3, 100), \n",
    "                 np.logspace(1, 4, 100))).plot(log_scale=True)\n",
    "        \n",
    "    offset = 0.6\n",
    "    if secondary:\n",
    "        plt.axvspan(offset + 0.6, offset + 2, color='red', alpha=0.2)\n",
    "        plt.text(offset + (0.6+2)/2, 1000, \"Preselection\", horizontalalignment='center', color='red')\n",
    "\n",
    "        plt.axhspan(*secondary_area_cut, color='blue', alpha=0.2)\n",
    "        plt.text(0.2, \n",
    "                 np.exp(np.mean(np.log(secondary_area_cut))),\n",
    "                 \"Area\\nsel.\",\n",
    "                 horizontalalignment='center', verticalalignment='center',\n",
    "                 color='blue')\n",
    "        \n",
    "        plt.title(\"Secondary S1\")\n",
    "        \n",
    "    else:\n",
    "        labeled_vline(offset, \"Trigger offset\", 1500, linestyle=':', textoffset = 0.1, color='r')\n",
    "\n",
    "        plt.axhspan(*primary_area_cut, color='blue', alpha=0.2)\n",
    "        plt.text(0.2, \n",
    "                 np.exp(np.mean(np.log(primary_area_cut))),\n",
    "                 \"Area\\nsel.\",\n",
    "                 horizontalalignment='center', verticalalignment='center',\n",
    "                 color='blue')\n",
    "        \n",
    "        t = plt.text(1, 700, \"Merged with SE?\")\n",
    "        plt.title(\"Primary S1\")\n",
    "        \n",
    "    plt.yscale('log')\n",
    "    plt.xlabel(\"Center time (\\si{\\micro s}) since trigger time\")\n",
    "    plt.ylabel(\"Area (pe)\")\n",
    "    plt.show()"
   ]
  },
  {
   "cell_type": "code",
   "execution_count": null,
   "metadata": {
    "collapsed": false
   },
   "outputs": [],
   "source": [
    "plt.hist((data['s1_a_center_time'] - 1 * units.ms) / units.us,\n",
    "         bins=np.linspace(0, 3, 100), histtype='step');\n",
    "plt.hist((data['s1_b_center_time'] - 1 * units.ms) / units.us,\n",
    "         bins=np.linspace(0, 3, 100), histtype='step');\n",
    "plt.yscale('log')"
   ]
  },
  {
   "cell_type": "code",
   "execution_count": null,
   "metadata": {
    "collapsed": false
   },
   "outputs": [],
   "source": [
    "(data['s1_b_center_time'] - data['s1_a_center_time']).min()"
   ]
  },
  {
   "cell_type": "code",
   "execution_count": null,
   "metadata": {
    "collapsed": true
   },
   "outputs": [],
   "source": []
  }
 ],
 "metadata": {
  "kernelspec": {
   "display_name": "Python 3",
   "language": "python",
   "name": "python3"
  },
  "language_info": {
   "codemirror_mode": {
    "name": "ipython",
    "version": 3
   },
   "file_extension": ".py",
   "mimetype": "text/x-python",
   "name": "python",
   "nbconvert_exporter": "python",
   "pygments_lexer": "ipython3",
   "version": "3.4.5"
  }
 },
 "nbformat": 4,
 "nbformat_minor": 0
}
